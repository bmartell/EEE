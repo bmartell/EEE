{
 "cells": [
  {
   "cell_type": "markdown",
   "metadata": {},
   "source": [
    "# Introduzione a Python\n",
    "\n",
    "## Tabella dei contenuti\n",
    "\n",
    "1. [Concetti base di Python](#section1)\n",
    "  1. [Esempio di programma](#section1.1)\n",
    "  1. [Tipi di dati base](#section1.2)\n",
    "  1. [Espressioni](#section1.3)\n",
    "  1. [Variabili](#section1.4)\n",
    "  1. [Stringhe](#section1.5)\n",
    "1. [Strutture dati di Python](#section2)\n",
    "  1. [Liste](#section2.1)\n",
    "  1. [Tuple](#section2.2)\n",
    "  1. [Dictionary](#section2.3)\n",
    "1. [Fondamenti di programmazione con Python](#section3)\n",
    "  1. [Liste](#section3.1)\n",
    "  1. [if](#section3.2)\n",
    "  1. [Ciclo for](#section3.3)\n",
    "  1. [Ciclo while](#section3.4)\n",
    "  1. [Funzioni](#section3.5)\n",
    "  1. [Moduli](#section3.6)\n",
    "\n",
    "Python è un linguaggio di programmazione open source e interattivo. \n",
    "- È in grado di girare su qualsiasi sistema operativo. \n",
    "- È molto facile da imparare. \n",
    "- È corredato da un vasto numero di librerie (quali `numpy`, `matplotlib`, e altre) che gli permettono di essere usato in diversi contesti, quali visualizzazione e analisi dei dati.\n",
    "\n",
    "![](https://4.bp.blogspot.com/-KKatJ3hNXkg/WM99qd9SszI/AAAAAAAAAfI/KeuMuiANNB07lh5Icv9I7lWY99IhkVGjgCEw/s1600/2d79d65a4d54b89f4a4e8d7170c4a888.jpg \"Librerie di Python\") *Vedere ['Most amazing used libraries in Python'](https://www.noobloops.com/2017/03/most-amazing-used-libraries-in-python.html) per ulteriori dettagli.*\n",
    "\n",
    "Questa parte del corso copre gli aspetti fondamentali del linguaggio di programmazione Python 3."
   ]
  },
  {
   "cell_type": "markdown",
   "metadata": {},
   "source": [
    "<a id='section1'></a>\n",
    "## 1. Concetti base di Python\n",
    "\n",
    "Questa parte del corso si prefigge di fornire gli strumenti base per scrivere un semplice programma in Python 3. Introduce i tipi, le espressioni e variabili, le stringhe e le operazioni tra stringhe.\n",
    "\n",
    "<a id='section1.1'></a>\n",
    "### A. Esempio di programma\n",
    "\n",
    "Un programma Python si compone di moduli, istruzioni, espressioni e oggetti:\n",
    "- i moduli contengono le istruzioni;\n",
    "- le istruzioni contengono espressioni;\n",
    "- le espressioni creano e processano gli oggetti.\n",
    "\n",
    "Nella sua forma più semplice, un programma Python è un insieme di istruzioni che vengono eseguite dall'alto verso il basso una dietro l'altra dall'interprete. \n",
    "\n",
    "Supponiamo che il programma contenga la seguente istruzione:\n",
    "```\n",
    "print('Ciao a tutti!')\n",
    "```\n",
    "\n",
    "Quando l'istruzione viene eseguita, Python mostra il valore tra parentesi, detto _argomento_. ```print()``` è una funzione di Python.\n",
    "\n",
    "In <font color=blue>Jupyter</font> la istruzione di sopra viene scritta all'interno della cella di tipo <font color=blue>Code</font> ed eseguita cliccando per esempio sul bottone <font color=blue>Run</font>. L'output viene mostrato in una cella subito sotto."
   ]
  },
  {
   "cell_type": "code",
   "execution_count": 69,
   "metadata": {},
   "outputs": [
    {
     "name": "stdout",
     "output_type": "stream",
     "text": [
      "Ciao a tutti!\n"
     ]
    }
   ],
   "source": [
    "print('Ciao a tutti!')"
   ]
  },
  {
   "cell_type": "markdown",
   "metadata": {},
   "source": [
    "Il carattere ```#``` non fa parte dell'istruzione e viene ignorato dall'interprete. Dopo questo carattere è possibile inserire del testo o altre istruzioni: è solitamente usato per commentare il codice."
   ]
  },
  {
   "cell_type": "code",
   "execution_count": 70,
   "metadata": {},
   "outputs": [
    {
     "name": "stdout",
     "output_type": "stream",
     "text": [
      "Ciao a tutti!\n"
     ]
    }
   ],
   "source": [
    " # scrivo Ciao a tutti!\n",
    " print('Ciao a tutti!')"
   ]
  },
  {
   "cell_type": "code",
   "execution_count": 71,
   "metadata": {},
   "outputs": [
    {
     "name": "stdout",
     "output_type": "stream",
     "text": [
      "Ciao a tutti!\n"
     ]
    }
   ],
   "source": [
    "# scrivo Ciao a tutti!\n",
    "\n",
    "print('Ciao a tutti!') # Questa linea stampa una stringa\n",
    "# fatto"
   ]
  },
  {
   "cell_type": "markdown",
   "metadata": {},
   "source": [
    "Gli errori nel codice possono essere di due tipi:\n",
    "1. sintattici, quando Python non capisce il codice e restituisce un errore;"
   ]
  },
  {
   "cell_type": "code",
   "execution_count": 72,
   "metadata": {},
   "outputs": [
    {
     "ename": "NameError",
     "evalue": "name 'fprint' is not defined",
     "output_type": "error",
     "traceback": [
      "\u001b[1;31m---------------------------------------------------------------------------\u001b[0m",
      "\u001b[1;31mNameError\u001b[0m                                 Traceback (most recent call last)",
      "\u001b[1;32m<ipython-input-72-5e76b500a33d>\u001b[0m in \u001b[0;36m<module>\u001b[1;34m\u001b[0m\n\u001b[1;32m----> 1\u001b[1;33m \u001b[0mfprint\u001b[0m\u001b[1;33m(\u001b[0m\u001b[1;34m'Ciao a tutti!'\u001b[0m\u001b[1;33m)\u001b[0m\u001b[1;33m\u001b[0m\u001b[1;33m\u001b[0m\u001b[0m\n\u001b[0m",
      "\u001b[1;31mNameError\u001b[0m: name 'fprint' is not defined"
     ]
    }
   ],
   "source": [
    "fprint('Ciao a tutti!')"
   ]
  },
  {
   "cell_type": "markdown",
   "metadata": {},
   "source": [
    "2. semantici, quando la logica nel codice è sbagliata e Python non restituisce nessun errore."
   ]
  },
  {
   "cell_type": "code",
   "execution_count": null,
   "metadata": {},
   "outputs": [],
   "source": [
    "print('Cito a tutti!')"
   ]
  },
  {
   "cell_type": "markdown",
   "metadata": {},
   "source": [
    "Python è un linguaggio interpretato. Di conseguenza le diverse linee di codice vengono eseguite una alla volta dall'interprete. L'esecuzione viene interrotta ogni qual volta si incontra un errore sintattico."
   ]
  },
  {
   "cell_type": "code",
   "execution_count": 73,
   "metadata": {},
   "outputs": [
    {
     "ename": "SyntaxError",
     "evalue": "EOL while scanning string literal (<ipython-input-73-fb8cce0b4d1e>, line 2)",
     "output_type": "error",
     "traceback": [
      "\u001b[1;36m  File \u001b[1;32m\"<ipython-input-73-fb8cce0b4d1e>\"\u001b[1;36m, line \u001b[1;32m2\u001b[0m\n\u001b[1;33m    print('Trovato?)\u001b[0m\n\u001b[1;37m                    ^\u001b[0m\n\u001b[1;31mSyntaxError\u001b[0m\u001b[1;31m:\u001b[0m EOL while scanning string literal\n"
     ]
    }
   ],
   "source": [
    "print('Sei invitato a trovare un errore!')\n",
    "print('Trovato?)\n",
    "print('Manca la virgoletta finale nella seconda print') \n",
    "      "
   ]
  },
  {
   "cell_type": "markdown",
   "metadata": {},
   "source": [
    "<a id='section1.2'></a>\n",
    "### B. Tipi di dati base\n",
    "\n",
    "In Python i tipi di dati base sono:\n",
    "- il tipo ```str``` (stringa) è una sequenza di caratteri;\n",
    "- il tipo ```bool``` può prendere due valori: \n",
    "  1. ```True``` (vero)\n",
    "  2. ```False``` (falso)\n",
    "- il tipo ```int``` è per i numeri interi positivi e negativi; \n",
    "- il tipo  ```float``` è per i numeri reali.\n",
    "\n",
    "Dato|Esempio|Tipi\n",
    "---|---|---\n",
    "interi|```11```|```int```\n",
    "numeri reali|```11.12```|```float```\n",
    "parole|```'oggi piove'```|```str```\n",
    "booleano|```True```|```bool```\n",
    "\n",
    "Questi tipi possono essere convertiti in altri tipi, per esempio:\n",
    "- un ```int``` può diventare un ```float```;\n",
    "- un ```float``` può diventare un ```int``` (perdendo informazione);\n",
    "- un ```str``` può diventare un ```int```, se contiene interi, altrimenti Python restituisce un errore;\n",
    "- un ```float``` può diventare un ```str```;\n",
    "- un ```int``` può diventare un ```str```;\n",
    "- un ```bool``` di valore ```False``` può diventare un ```int``` di valore 0 e viceversa;\n",
    "- un ```int``` di valore 1 può diventare un ```bool``` di valore ```True``` e viceversa.\n",
    "\n",
    "Il comando ```type``` permette di conoscere il tipo di un valore."
   ]
  },
  {
   "cell_type": "markdown",
   "metadata": {},
   "source": [
    "<font color=blue>Esercizio:</font> Convertire il ```bool``` di valore ```True``` in ```int```. Qual è il nuovo valore?"
   ]
  },
  {
   "cell_type": "markdown",
   "metadata": {},
   "source": [
    "<font color=blue>Esercizio:</font> Eseguire le seguenti conversioni:\n",
    "- ```float(3)```\n",
    "- ```int(2.4)```\n",
    "- ```int('10')```\n",
    "- ```int('A')```\n",
    "- ```str(3)```\n",
    "- ```str(2.4)```\n",
    "- ```int(True)```\n",
    "- ```int(False)```"
   ]
  },
  {
   "cell_type": "markdown",
   "metadata": {},
   "source": [
    "<font color=blue>Esercizio:</font> Eseguire il comando ```type``` sui seguenti valori:\n",
    "- ```type(True)```\n",
    "- ```type(False)```\n",
    "- ```type(2.0)```\n",
    "- ```type(2)```"
   ]
  },
  {
   "cell_type": "markdown",
   "metadata": {},
   "source": [
    "<a id='section1.3'></a>\n",
    "### C. Espressioni\n",
    "\n",
    "Le espressioni sono una combinazione di numeri e altri tipi di dato e operatori. Di seguito sono riportati alcuni operatori matematici, preceduti e seguiti da valori numerici detti ```operandi```.\n",
    "\n",
    "Operatore|Esempio|Operazione\n",
    "---|---|---\n",
    "```+```|```2+2+4```|Addizione/Concatenazione\n",
    "```-```|```2-2```|Sottrazione\n",
    "```*```|```5*5```|Moltiplicazione/Ripetizione\n",
    "```/```|```25/3```|Divisione\n",
    "```**```|```2**2```|Elevamento a potenza\n",
    "```//```|```25//5```|Divisione tra interi\n",
    "\n",
    "Le espressioni più complesse possono essere scritte combinando gli operatori. Nel caso di una espressione contenente più di un operatore, Python segue le regole di precedenza tra operatori che determina l'ordine con cui le varie parti dell'espressione vengono valutate. Nel caso di ```11 + 2 * 3```, Python calcola prima la moltiplicazione ```2 * 3``` e poi aggiunge il suo risultato a ```11```, ottenendo ```17```: l'operatore ```*``` ha una precedenza più alta dell'operatore ```+```. \n",
    "\n",
    "La precedenza tra gli operatori può essere modificata se parti dell'espressione sono raggruppate mediante parentesi: Python calcola prima le espressioni racchiuse tra parentesi. Nel caso di ```(11 + 2) * 3```, Python applica prima l'operatore ```+``` e successivamente ```*```, ottenendo ```39```. "
   ]
  },
  {
   "cell_type": "markdown",
   "metadata": {},
   "source": [
    "<font color=blue>Esercizio:</font> Eseguire le seguenti operazioni aritmetiche, specificando l'ordine di esecuzione tra le operazioni:\n",
    "- ```11*20-100```\n",
    "- ```10+2*5```\n",
    "- ```2*5+10```\n",
    "- ```(20+10)*5```"
   ]
  },
  {
   "cell_type": "markdown",
   "metadata": {},
   "source": [
    "<a id='section1.4'></a>\n",
    "### D. Variabili\n",
    "\n",
    "Le variabili sono dei nomi usati per memorizzare dei valori. Inoltre:\n",
    "- sono create automaticamente dall'operazione di assegnamento con l'operatore di ugualianza ```=``` posizionato tra la variabile (alla sua sinistra) e il valore (alla sua destra);\n",
    "- vengono create al primo assegnamento di un valore;\n",
    "- sono modificate da assegnamenti successivi;\n",
    "- sono sostituite con il rispettivo valore quando usate in una espressione;\n",
    "- devono avere un valore assegnato prima di essere usate, altrimenti viene generato un errore;\n",
    "- non contengono informazioni sul tipo;\n",
    "- si riferiscono ai valori o oggetti, in cui risiede la nozione di tipo.\n",
    "\n",
    "Eseguire la istruzione ```a = 1```, comporta effettuare i seguenti passi:\n",
    "1. creare un oggetto per il valore intero ```1```\n",
    "1. creare la variabile ```a```, se non esiste già \n",
    "1. collegare la variabile ```a``` al nuovo oggetto ```1```\n",
    "\n",
    "L'oggetto intero 1 contiene il valore 1 più un'etichetta che informa Python che si tratta di un intero.  \n",
    "\n",
    "Le variabili e gli oggetti sono registrati in aree di memoria distinte e associate tramite dei collegamenti. Le variabili puntano sempre ad oggetti e non a variabili, ma oggetti complessi possono puntare ad altri oggetti. Gli oggetti sono dei pezzi di memoria allocata di dimensioni sufficienti per memorizzare il valore che essi rappresentano. I collegamenti tra variabili e oggetti sono detti referenze.\n",
    "\n",
    "<font color=blue>Esempio:</font> Creare la variabile ```a``` con il valore 1, successivamente cambiare il valore della variabile ```a``` con il valore 2: \n",
    "- cosa succede al vecchio valore dopo aver riassegnato la variabile?"
   ]
  },
  {
   "cell_type": "code",
   "execution_count": null,
   "metadata": {},
   "outputs": [],
   "source": [
    "a = 1\n",
    "print(f'Il valore di a {a}') # f sta per format ed elabora l'espressione tra {}\n",
    "a = 2\n",
    "print('Il valore di a', a)"
   ]
  },
  {
   "cell_type": "markdown",
   "metadata": {},
   "source": [
    "![alt-text](caso1.png)\n",
    "\n",
    "\n",
    "Ogni volta che viene assegnato un nuovo oggetto ad una variabile già esistente, Python rilascia lo spazio di memoria allocato per il vecchio oggetto.\n",
    "\n",
    "<font color=blue>Esempio:</font> Creare la variabile ```a``` con il valore 1, successivamente assegnarla alla variabile ```b```, e cambiare il valore della variabile ```a``` con 2: \n",
    "- il valore di ```b``` è sempre lo stesso?\n",
    "- qual è il tipo degli oggetti?"
   ]
  },
  {
   "cell_type": "code",
   "execution_count": null,
   "metadata": {},
   "outputs": [],
   "source": [
    "a = 1\n",
    "print('Il valore di a ', a)\n",
    "b = a # a viene usata, quindi sostituita dall'oggetto che referenzia (1)\n",
    "print('Il valore di b ', b)\n",
    "a = 2\n",
    "print('Il valore di a ', a)\n",
    "print('Il valore di b ', b)"
   ]
  },
  {
   "cell_type": "markdown",
   "metadata": {},
   "source": [
    "Dopo il primo assegnamento, la variabile ```a``` referenzia l'oggetto 1. Al secondo assegnamento, la variabile ```b``` referenzia lo stesso oggetto di ```a```. L'ultimo assegnamento crea un nuovo oggetto di valore 2 e imposta una nuova referenza da ```a``` all'oggetto 2.\n",
    "\n",
    "![alt-text](caso3.png)\n",
    "\n",
    "<font color=blue>Esempio:</font> Creare la variabile ```a``` con il valore 1, successivamente assegnarla alla variabile ```b```, e cambiare il valore della variabile ```a``` con ```a + 1``` tramite operatore ```+```: \n",
    "- il valore di ```b``` è sempre lo stesso?\n",
    "- qual è il tipo degli oggetti?"
   ]
  },
  {
   "cell_type": "code",
   "execution_count": null,
   "metadata": {},
   "outputs": [],
   "source": [
    "a = 1\n",
    "print('Il valore di a ', a)\n",
    "b = a # a viene usata, quindi sostituita dall'oggetto che referenzia (1)\n",
    "print('Il valore di b ', b)\n",
    "a = a + 2\n",
    "print('Il valore di a ', a)\n",
    "print('Il valore di b ', b)"
   ]
  },
  {
   "cell_type": "markdown",
   "metadata": {},
   "source": [
    "<font color=blue>Esercizio:</font> Definite le variabili ```x``` e ```y``` come indicato, esprimere la variabile ```z``` come ```x - y```.\n",
    "``` \n",
    "x = 3 + 2 * 2\n",
    "y = (3 + 2) * 2\n",
    "z = x - y\n",
    "print(z)\n",
    "```"
   ]
  },
  {
   "cell_type": "code",
   "execution_count": null,
   "metadata": {},
   "outputs": [],
   "source": [
    "x = 3 + 2 * 2\n",
    "y = (3 + 2) * 2\n",
    "z = x - y\n",
    "print(z)"
   ]
  },
  {
   "cell_type": "markdown",
   "metadata": {},
   "source": [
    "<font color=blue>Esercizio:</font> Determinare il numero di secondi in cui una persona si trova in vacanza, dato il numero G di giorni, il numero O di ore e il numero M di minuti. "
   ]
  },
  {
   "cell_type": "code",
   "execution_count": null,
   "metadata": {},
   "outputs": [],
   "source": [
    "# G*24*3600\n",
    "da_giorni = int(input('Inserisci il numero di giorni: ')) * 24 * 3600\n",
    "# O*3600\n",
    "da_ore = int(input('Inserisci il numero di ore: ')) * 3600\n",
    "# M*60\n",
    "da_minuti = int(input('Inserisci il numero di minuti: ')) * 60\n",
    "secondi=da_giorni+da_ore+da_minuti\n",
    "print(secondi)"
   ]
  },
  {
   "cell_type": "markdown",
   "metadata": {},
   "source": [
    "<a id='section1.5'></a>\n",
    "### E. Stringhe\n",
    "\n",
    "Una stringa è una sequenza di caratteri ordinata (come ```Corso 2019```) delimitata da apici, singoli ```'Corso 2019'``` o doppi ```\"Corso 2019\"``` o tripli ```\"\"\"Corso 2019\"\"\"```. Può contenere spazi, numeri, lettere, ma anche caratteri speciali come ```'@ # _ ] & ^ %'```.\n",
    "\n",
    "Una stringa può essere assegnata ad una variabile. \n",
    "\n",
    "La sequenza mantiene traccia della posizione degli elementi da sinistra verso destra: ciascun elemento viene indicizzato secondo la propria posizione. In Python gli indici partono da sinistra e vanno a crescere: il primo indice vale sempre 0. Si può partire dalla fine della sequenza, quindi da destra: in questo caso l'indice parte da -1 e va a decrescere.\n",
    "\n",
    "<font color=blue>Esempio:</font> Assegnare la stringa ```\"Corso 2019\"``` alla variabile ```prova```:\n",
    "- estrarre il primo e l'ultimo elemento della variabile ```prova```;\n",
    "\n",
    "![alt-text](stringa.png)\n",
    "\n",
    "- estrarre la sequenza di caratteri prima e dopo lo spazio."
   ]
  },
  {
   "cell_type": "code",
   "execution_count": null,
   "metadata": {},
   "outputs": [],
   "source": [
    "prova = 'Corso 2019'\n",
    "print(\"La stringa prova vale \", prova)\n",
    "print(\"Estrarre il primo elemento con indice 0 \", prova[0])\n",
    "print(\"Estrarre il primo elemento con indice -10 \", prova[-10])\n",
    "print(\"Estrarre l'ultimo elemento con indice -1 \", prova[-1])\n",
    "print(\"Estrarre l'ultimi elemento con indice 9 \", prova[9])\n",
    "print(\"Estrarre la sequenza di caratteri prima dello spazio \", prova[0:5])\n",
    "print(\"Estrarre la sequenza di caratteri dopo lo spazio \", prova[6:10])"
   ]
  },
  {
   "cell_type": "markdown",
   "metadata": {},
   "source": [
    "La funzione ```len()``` di Python restituisce il numero di caratteri presenti nella stringa. "
   ]
  },
  {
   "cell_type": "code",
   "execution_count": null,
   "metadata": {},
   "outputs": [],
   "source": [
    "len('Corso 2019')"
   ]
  },
  {
   "cell_type": "markdown",
   "metadata": {},
   "source": [
    "Le stringhe in aggiunta alla indicizzazione supportano le seguenti operazioni:\n",
    "- operazione di sezionamento con l'operatore ```:``` per estrarre una sotto sequenza o un sotto insieme di caratteri"
   ]
  },
  {
   "cell_type": "code",
   "execution_count": null,
   "metadata": {},
   "outputs": [],
   "source": [
    "prova='Corso 2019'\n",
    "print(\"La stringa prova vale \", prova)\n",
    "print(\"Estrarre multipli di 2 caratteri partendo dal primo \", prova[::2]) #tutti i caratteri ogni 2\n",
    "print(\"Estrarre multipli di 3 caratteri partendo dal primo \", prova[::3]) #tutti i caratteri ogni 3\n",
    "print(\"Estrarre multipli di 2 caratteri partendo tra i primi 5 caratteri \", prova[0:5:2]) #i primi 5 caratteri ogni 2"
   ]
  },
  {
   "cell_type": "markdown",
   "metadata": {},
   "source": [
    "- operazione di concatenazione con l'operatore ```+``` per unire due stringhe con la restituzione di una nuova stringa"
   ]
  },
  {
   "cell_type": "code",
   "execution_count": null,
   "metadata": {},
   "outputs": [],
   "source": [
    "prova = 'Corso 2019'\n",
    "print(prova)\n",
    "attivato = prova + ' attivato!'\n",
    "print(attivato)"
   ]
  },
  {
   "cell_type": "markdown",
   "metadata": {},
   "source": [
    "- operazione di replicazione con l'operatore ```*``` per creare una nuova stringa ottenuta replicando un certo numero di volte la stringa originale"
   ]
  },
  {
   "cell_type": "code",
   "execution_count": null,
   "metadata": {},
   "outputs": [],
   "source": [
    "esito='Ciao '\n",
    "print(2*esito)"
   ]
  },
  {
   "cell_type": "markdown",
   "metadata": {},
   "source": [
    "Le operazioni descritte in precedenza permettono di creare una nuova stringa: la stringa originale non viene mai modificata. Le stringhe sono infatti immutabili: una volta create non possono essere modificate. Non è possibile riassegnare uno dei caratteri tramite l'indicizzazione.\n",
    "\n",
    "<font color=blue>Esempio:</font> Cosa succede se usate l'operatore ```=``` nel cambiare il valore di una stringa? "
   ]
  },
  {
   "cell_type": "code",
   "execution_count": null,
   "metadata": {},
   "outputs": [],
   "source": [
    "a='ciao'\n",
    "a[0]='b'"
   ]
  },
  {
   "cell_type": "markdown",
   "metadata": {},
   "source": [
    "<font color=blue>Esempio:</font> Data la stringa 'David Bowie', modificarla in 'David Bowie era un cantante inglese.', usando il concetto di variabile e operatore ```+```. "
   ]
  },
  {
   "cell_type": "code",
   "execution_count": null,
   "metadata": {},
   "outputs": [],
   "source": [
    "messaggio='David Bowie'\n",
    "messaggio=messaggio + 'era un cantante inglese.'\n",
    "print(messaggio) # le stringhe sono immutabili"
   ]
  },
  {
   "cell_type": "markdown",
   "metadata": {},
   "source": [
    "<font color=blue>Esercizio:</font> Modificare l'esempio precedente in modo da avere il messaggio 'David Bowie era il migliore!'."
   ]
  },
  {
   "cell_type": "code",
   "execution_count": null,
   "metadata": {},
   "outputs": [],
   "source": [
    "messaggio = 'David Bowie'\n",
    "messaggio = messaggio + ' era il migliore!'\n",
    "print(messaggio)\n",
    "\n",
    "messaggio += ' era il migliore!'\n",
    "print(messaggio)"
   ]
  },
  {
   "cell_type": "markdown",
   "metadata": {},
   "source": [
    "Il carattere backslash ```\\``` rappresenta l'inizio di una sequenza di escape. Può essere usato in diversi modi:\n",
    "- ```\\n``` codifica una nuova linea"
   ]
  },
  {
   "cell_type": "code",
   "execution_count": 74,
   "metadata": {},
   "outputs": [
    {
     "name": "stdout",
     "output_type": "stream",
     "text": [
      "David Bowie \n",
      " era un cantante inglese.\n"
     ]
    }
   ],
   "source": [
    "print('David Bowie \\n era un cantante inglese.')"
   ]
  },
  {
   "cell_type": "markdown",
   "metadata": {},
   "source": [
    "- ```\\t``` codifica una tabulazione"
   ]
  },
  {
   "cell_type": "code",
   "execution_count": 75,
   "metadata": {},
   "outputs": [
    {
     "name": "stdout",
     "output_type": "stream",
     "text": [
      "David Bowie \t era un cantante.\n"
     ]
    }
   ],
   "source": [
    "print('David Bowie \\t era un cantante.')"
   ]
  },
  {
   "cell_type": "markdown",
   "metadata": {},
   "source": [
    "- ```\\\\``` codifica un ```\\```"
   ]
  },
  {
   "cell_type": "code",
   "execution_count": 76,
   "metadata": {},
   "outputs": [
    {
     "name": "stdout",
     "output_type": "stream",
     "text": [
      "David Bowie \\ era un cantante.\n"
     ]
    }
   ],
   "source": [
    "print('David Bowie \\\\ era un cantante.')"
   ]
  },
  {
   "cell_type": "markdown",
   "metadata": {},
   "source": [
    "Python fornisce dei metodi che lavorano sulle stringhe. Tra i metodi a disposizione sono presenti i seguenti:\n",
    "- il metodo ```lower()``` restituisce una stringa contenente i caratteri della stringa originale in minuscolo;"
   ]
  },
  {
   "cell_type": "code",
   "execution_count": 77,
   "metadata": {},
   "outputs": [
    {
     "name": "stdout",
     "output_type": "stream",
     "text": [
      "sabato\n"
     ]
    }
   ],
   "source": [
    "a = 'SABATO'\n",
    "b = a.lower()\n",
    "print(b)"
   ]
  },
  {
   "cell_type": "markdown",
   "metadata": {},
   "source": [
    "- il metodo ```upper()``` restituisce una stringa contenente i caratteri della stringa originale in maiuscolo;"
   ]
  },
  {
   "cell_type": "code",
   "execution_count": 78,
   "metadata": {},
   "outputs": [
    {
     "name": "stdout",
     "output_type": "stream",
     "text": [
      "DOMENICA\n"
     ]
    }
   ],
   "source": [
    "a = 'domenica'\n",
    "b = a.upper()\n",
    "print(b)"
   ]
  },
  {
   "cell_type": "markdown",
   "metadata": {},
   "source": [
    "- il metodo ```replace()``` restituisce una stringa contenente una parte della stringa sostituita da una stringa specificata;"
   ]
  },
  {
   "cell_type": "code",
   "execution_count": 79,
   "metadata": {},
   "outputs": [
    {
     "name": "stdout",
     "output_type": "stream",
     "text": [
      "ratto\n"
     ]
    }
   ],
   "source": [
    "a = 'gatto'\n",
    "b = a.replace('g','r')\n",
    "print(b)"
   ]
  },
  {
   "cell_type": "markdown",
   "metadata": {},
   "source": [
    "- il metodo ```find()``` restituisce l'indice della prima occorrenza della stringa specificiata;"
   ]
  },
  {
   "cell_type": "code",
   "execution_count": 80,
   "metadata": {},
   "outputs": [
    {
     "name": "stdout",
     "output_type": "stream",
     "text": [
      "2\n"
     ]
    }
   ],
   "source": [
    "a = 'gatto'\n",
    "b = a.find('tt') # gli indici della stringa partono da 0\n",
    "print(b)"
   ]
  },
  {
   "cell_type": "markdown",
   "metadata": {},
   "source": [
    "<a id=esercizio8></a>\n",
    "<font color=blue>Esercizio:</font> Quale è il valore della variabile ```A``` dopo l'esecuzione dell'istruzione ```A = \"1\"```?"
   ]
  },
  {
   "cell_type": "code",
   "execution_count": 81,
   "metadata": {},
   "outputs": [
    {
     "name": "stdout",
     "output_type": "stream",
     "text": [
      "1\n"
     ]
    }
   ],
   "source": [
    "A = \"1\"\n",
    "print(A)"
   ]
  },
  {
   "cell_type": "markdown",
   "metadata": {},
   "source": [
    "<a id=esercizio9></a>\n",
    "<font color=blue>Esercizio:</font> Quale è il valore della variabile ```B``` dopo l'esecuzione dell'istruzione ```B = \"2\"```?"
   ]
  },
  {
   "cell_type": "code",
   "execution_count": 82,
   "metadata": {},
   "outputs": [
    {
     "name": "stdout",
     "output_type": "stream",
     "text": [
      "2\n"
     ]
    }
   ],
   "source": [
    "B = \"2\"\n",
    "print(B)"
   ]
  },
  {
   "cell_type": "markdown",
   "metadata": {},
   "source": [
    "<font color=blue>Esercizio:</font> Definite le variabili ```A``` e ```B``` come gli esercizi precedenti. Quale è il valore della variabile ```C``` dopo l'esecuzione dell'istruzione ```C = A + B```?"
   ]
  },
  {
   "cell_type": "code",
   "execution_count": 83,
   "metadata": {},
   "outputs": [
    {
     "name": "stdout",
     "output_type": "stream",
     "text": [
      "12\n"
     ]
    }
   ],
   "source": [
    "C = A + B\n",
    "print(C)"
   ]
  },
  {
   "cell_type": "markdown",
   "metadata": {},
   "source": [
    "[_Rispondere alle domande online._](https://docs.google.com/forms/d/1vJ1LfuR0B64ImS_zq6RJ2CGTWgasn82vWITnOg7o1ng/prefill)"
   ]
  },
  {
   "cell_type": "markdown",
   "metadata": {},
   "source": [
    "<a id='section2'></a>\n",
    "## 2. Strutture dati di Python\n",
    "\n",
    "Questa parte del corso introduce le strutture dati, quali liste, tuple e dizionari. \n",
    "\n",
    "Strutture dati|Esempi\n",
    "---|---\n",
    "lista|```L = [\"A\", 1, 2.0]```\n",
    "tupla|```T = (10, 9, 8, 10, 9, 2)```\n",
    "dizionario|```D = {\"chiave1\":1,\"chiave2\":(10,9),\"chiave3\":\"A\"}```\n",
    "\n",
    "<a id='section2.1'></a>\n",
    "### A. Liste\n",
    "La lista è una sequenza (come le stringhe), ma è mutabile. A differenza della stringa può essere modificata senza dover effettuare delle copie.\n",
    "\n",
    "La lista viene codificata con le parentesi quadre con gli elementi, che possono essere di tipo diverso, separati da virgola. Es. la lista ```L = [10, 10.2, 'a']```.\n",
    "\n",
    "Gli elementi di una lista possono essere di qualunque tipo, come stringhe, float, int, liste e tuple.\n",
    "\n",
    "Ciascun elemento di una lista può essere acceduto tramite un indice:\n",
    "\n",
    "Indice +|Elemento|Sintassi \n",
    "---|---|---\n",
    "0|10|L[0] \n",
    "1|10.2|L[1]  \n",
    "2|'a'|L[2]\n",
    "\n",
    "Indice -|Elemento|Sintassi\n",
    "---|---|---\n",
    "-3|10|T[-3]  \n",
    "-2|10.2|T[-2] \n",
    "-1|'a'|T[-1]\n",
    "\n",
    "La funzione ```len()``` restituisce il numero di elementi (oggetti) contenuti nella lista. "
   ]
  },
  {
   "cell_type": "code",
   "execution_count": 84,
   "metadata": {},
   "outputs": [
    {
     "data": {
      "text/plain": [
       "3"
      ]
     },
     "execution_count": 84,
     "metadata": {},
     "output_type": "execute_result"
    }
   ],
   "source": [
    "len([10, 10.2, 'a'])"
   ]
  },
  {
   "cell_type": "markdown",
   "metadata": {},
   "source": [
    "Le liste supportano tutte le operazioni previste dalle sequenze:\n",
    "- operazione di concatenazione con l'operatore ```+```"
   ]
  },
  {
   "cell_type": "code",
   "execution_count": 85,
   "metadata": {},
   "outputs": [
    {
     "name": "stdout",
     "output_type": "stream",
     "text": [
      "['a', 2, 3, 4, 5, 6]\n",
      "['a', 2, 3, 4]\n"
     ]
    }
   ],
   "source": [
    "L1 = ['a', 2, 3, 4]\n",
    "L2 = L1 + [5, 6] # restituisce una nuova lista\n",
    "print(L2) \n",
    "print(L1) # la vecchia lista non viene modificata"
   ]
  },
  {
   "cell_type": "markdown",
   "metadata": {},
   "source": [
    "- operazione di sezionamento con l'operatore ```:```"
   ]
  },
  {
   "cell_type": "code",
   "execution_count": 86,
   "metadata": {},
   "outputs": [
    {
     "name": "stdout",
     "output_type": "stream",
     "text": [
      "['a', 2]\n",
      "['a', 2, 3]\n",
      "['a', 2, 3, 4]\n"
     ]
    }
   ],
   "source": [
    "L = ['a', 2, 3, 4]\n",
    "print(L[0:2]) # restituisce una lista\n",
    "print(L[:-1])\n",
    "print(L[:6])"
   ]
  },
  {
   "cell_type": "markdown",
   "metadata": {},
   "source": [
    "- operazione di assegnamento con l'operatore ```=```"
   ]
  },
  {
   "cell_type": "code",
   "execution_count": 87,
   "metadata": {},
   "outputs": [
    {
     "data": {
      "text/plain": [
       "['b', 2, 3, 4]"
      ]
     },
     "execution_count": 87,
     "metadata": {},
     "output_type": "execute_result"
    }
   ],
   "source": [
    "L = ['a', 2, 3, 4]\n",
    "L[0] = 'b' # La lista e' mutabile\n",
    "L"
   ]
  },
  {
   "cell_type": "markdown",
   "metadata": {},
   "source": [
    "Nel caso di copia di una lista tra due variabili, nel cambiare gli elementi in una variabile, si cambiano gli elementi anche nell'altra. Questo perchè le variabili referenziano lo stesso oggetto."
   ]
  },
  {
   "cell_type": "code",
   "execution_count": 88,
   "metadata": {},
   "outputs": [
    {
     "name": "stdout",
     "output_type": "stream",
     "text": [
      "[0, 1]\n",
      "[0, 1]\n",
      "[2, 1] [2, 1]\n",
      "[2, 3] [2, 3]\n"
     ]
    }
   ],
   "source": [
    "A = [0, 1]\n",
    "print(A)\n",
    "B = A\n",
    "print(B)\n",
    "B[0]=2\n",
    "print(A, B)\n",
    "A[1]=3\n",
    "print(A, B) # Le due variabili referenziano la stessa lista"
   ]
  },
  {
   "cell_type": "markdown",
   "metadata": {},
   "source": [
    "Dopo aver eseguito le prime due istruzioni, ```A``` e ```B``` referenziano lo stesso oggetto di tipo lista ```[0, 1]```. Successivamente:\n",
    "- è stato cambiato un elemento dell'oggetto referenziato da ```B```, che va a modificare parte dell'oggetto della lista. Questo ha un effetto anche su ```A```, poiché condivide lo stesso oggetto di ```B```.\n",
    "- è stato cambiato un elemento dell'oggetto referenziato da ```A```, che va a modificare parte dell'oggetto della lista. Questo ha un effetto anche su ```B```, poiché condivide lo stesso oggetto di ```A```.\n",
    "\n",
    "Nel caso di clonazione di una lista tra due variabili, nel cambiare gli elementi in una variabile, non si cambiano gli elementi anche nell'altra.\n",
    "Questo perchè le variabili referenziano oggetti diversi."
   ]
  },
  {
   "cell_type": "code",
   "execution_count": 89,
   "metadata": {},
   "outputs": [
    {
     "name": "stdout",
     "output_type": "stream",
     "text": [
      "[0, 1]\n",
      "[0, 1]\n",
      "[0, 1] [2, 1]\n",
      "[0, 3] [2, 1]\n"
     ]
    }
   ],
   "source": [
    "A = [0, 1]\n",
    "print(A)\n",
    "B = A[:]\n",
    "print(B)\n",
    "B[0]=2\n",
    "print(A, B)\n",
    "A[1]=3\n",
    "print(A, B) # Le due variabili refernziano due liste differenti"
   ]
  },
  {
   "cell_type": "markdown",
   "metadata": {},
   "source": [
    "Dopo aver eseguito le prime due istruzioni, ```A``` referenzia una lista ```[0, 1]```, mentre ```B``` referenzia una copia di ```A```. ```A``` e ```B``` puntano a due locazioni di memoria diverse.  \n",
    "\n",
    "Python fornisce dei metodi che lavorano sulle liste. Tra i metodi a disposizione sono presenti:\n",
    "- il metodo ```extend()``` aggiunge degli elementi alla lista;"
   ]
  },
  {
   "cell_type": "code",
   "execution_count": 90,
   "metadata": {},
   "outputs": [
    {
     "name": "stdout",
     "output_type": "stream",
     "text": [
      "['a', 2, 3, 4, 'b', 5]\n"
     ]
    }
   ],
   "source": [
    "L = ['a', 2, 3, 4]\n",
    "L.extend(['b',5]) # Concatena due nuovi elementi ad L\n",
    "print(L)"
   ]
  },
  {
   "cell_type": "markdown",
   "metadata": {},
   "source": [
    "- il metodo ```append()``` aggiunge un nuovo elemento alla lista;"
   ]
  },
  {
   "cell_type": "code",
   "execution_count": 91,
   "metadata": {},
   "outputs": [
    {
     "name": "stdout",
     "output_type": "stream",
     "text": [
      "['a', 2, 3, 4, ['b', 5]]\n"
     ]
    }
   ],
   "source": [
    "L = ['a', 2, 3, 4]\n",
    "L.append(['b',5]) # Aggiunge una nuova lista ad L\n",
    "print(L)"
   ]
  },
  {
   "cell_type": "markdown",
   "metadata": {},
   "source": [
    "- il metodo ```pop()``` elimina un elemento alla lista;"
   ]
  },
  {
   "cell_type": "code",
   "execution_count": 92,
   "metadata": {},
   "outputs": [
    {
     "name": "stdout",
     "output_type": "stream",
     "text": [
      "[2, 3, 4]\n"
     ]
    }
   ],
   "source": [
    "L = ['a', 2, 3, 4]\n",
    "L.pop(0) # Elimina il 1 elemento da L\n",
    "print(L)\n",
    "# Si può ottenere lo stesso risultato usando la funzione del(L[0])"
   ]
  },
  {
   "cell_type": "markdown",
   "metadata": {},
   "source": [
    "Una stringa può essere convertita in lista tramite il metodo ```split()``` con l'ausilio di un delimitatore che può essere formato da almeno 1 carattere."
   ]
  },
  {
   "cell_type": "code",
   "execution_count": 93,
   "metadata": {},
   "outputs": [
    {
     "name": "stdout",
     "output_type": "stream",
     "text": [
      "['a', 'b', 'c', 'd']\n",
      "['Essere o ', ' essere']\n",
      "['Essere', 'o', 'non', 'essere']\n"
     ]
    }
   ],
   "source": [
    "L1 = 'a,b,c,d'\n",
    "print(L1.split(','))\n",
    "\n",
    "L2 = 'Essere o non essere'\n",
    "print(L2.split('non'))\n",
    "\n",
    "L3 = 'Essere o non essere'\n",
    "print(L3.split()) # Il carattere delimitatore è lo spazio"
   ]
  },
  {
   "cell_type": "markdown",
   "metadata": {},
   "source": [
    "<a id='section2.2'></a>\n",
    "### B. Tuple\n",
    "La tupla è una sequenza (come la lista) ordinata, ma è immutabile come la stringa. Supporta tutte le operazioni previste dalle sequenze.\n",
    "\n",
    "La tupla viene codificata con le parentesi tonde con gli elementi, che possono essere di tipo diverso, separati da virgola. Es. la tupla ```T = (10, 9, 8, 'A')```.\n",
    "\n",
    "Gli elementi di una tupla possono essere di qualunque tipo, come stringhe, float, int, liste e tuple.\n",
    "\n",
    "Ciascun elemento di una tupla può essere acceduto da un indice:\n",
    "\n",
    "Indice +|Elemento|Sintassi \n",
    "---|---|---\n",
    "0|10|T[0] \n",
    "1|9|T[1]  \n",
    "2|8|T[2] \n",
    "3|'A'|T[3]\n",
    "\n",
    "Indice -|Elemento|Sintassi\n",
    "---|---|---\n",
    "-4|10|T[-4] \n",
    "-3|9|T[-3]  \n",
    "-2|8|T[-2] \n",
    "-1|'A'|T[-1]\n",
    "\n",
    "La funzione ```len()``` di Python restituisce il numero di elementi di una tupla. "
   ]
  },
  {
   "cell_type": "code",
   "execution_count": 94,
   "metadata": {},
   "outputs": [
    {
     "data": {
      "text/plain": [
       "4"
      ]
     },
     "execution_count": 94,
     "metadata": {},
     "output_type": "execute_result"
    }
   ],
   "source": [
    "len((10, 9, 8, 'A'))"
   ]
  },
  {
   "cell_type": "markdown",
   "metadata": {},
   "source": [
    "Le tuple supportano tutte le operazioni previste dalle sequenze:\n",
    "- operazione di concatenazione con l'operatore ```+```"
   ]
  },
  {
   "cell_type": "code",
   "execution_count": 95,
   "metadata": {},
   "outputs": [
    {
     "data": {
      "text/plain": [
       "('a', 2, 3, 4, 5, 6)"
      ]
     },
     "execution_count": 95,
     "metadata": {},
     "output_type": "execute_result"
    }
   ],
   "source": [
    "T1 = ('a', 2, 3, 4)\n",
    "T2 = T1 + (5, 6)\n",
    "T2"
   ]
  },
  {
   "cell_type": "markdown",
   "metadata": {},
   "source": [
    "- operazione di sezionamento con l'operatore ```:```"
   ]
  },
  {
   "cell_type": "code",
   "execution_count": 96,
   "metadata": {},
   "outputs": [
    {
     "data": {
      "text/plain": [
       "('a', 2)"
      ]
     },
     "execution_count": 96,
     "metadata": {},
     "output_type": "execute_result"
    }
   ],
   "source": [
    "T1 = ('a', 2, 3, 4)\n",
    "T1[0:2]"
   ]
  },
  {
   "cell_type": "markdown",
   "metadata": {},
   "source": [
    "- operazione di indicizzazione"
   ]
  },
  {
   "cell_type": "code",
   "execution_count": 97,
   "metadata": {},
   "outputs": [
    {
     "data": {
      "text/plain": [
       "4"
      ]
     },
     "execution_count": 97,
     "metadata": {},
     "output_type": "execute_result"
    }
   ],
   "source": [
    "T1 = ('a', 2, 3, 4)\n",
    "T1[-1]"
   ]
  },
  {
   "cell_type": "markdown",
   "metadata": {},
   "source": [
    "Le operazioni descritte in precedenza permettono di creare una nuova tupla: la tupla originale non viene mai modificata. Le tuple sono infatti immutabili: una volta create non possono essere modificate. Sono come le stringhe. "
   ]
  },
  {
   "cell_type": "markdown",
   "metadata": {},
   "source": [
    "<a id='section2.3'></a>\n",
    "### C. Dizionari\n",
    "I dizionari non sono sequenze, vengono chiamati mappature e sono mutabili come le liste. \n",
    "\n",
    "Un dizionario viene codificato con le parentesi graffe e consiste di una serie di coppie 'chiave:valore' separati da una virgola. Es. il dizionario \n",
    "```\n",
    "D = {'Low':1977, \n",
    "     'Diamond Dogs':1974, \n",
    "     'Lazarus':2016}\n",
    "```\n",
    "Le chiavi sono immutabili e uniche, mentre i valori possono essere mutabili, immutabili e duplicati.\n",
    "\n",
    "Gli elementi di un dizionario possono essere: liste, tuple, stringhe, numeri, dizionari.\n",
    "\n",
    "I dizionari non mantengono alcuna informazione sulla posizione dei diversi elementi: mappano dei valori e delle chiavi di ricerca. \n",
    "\n",
    "I dizionari sono indicizzati tramite le chiavi. Gli indici sono indicati tra parentesi quadre, come già visto per le sequenze, ma sono rappresentati dalle chiavi del dizionario e non dalla posizione relativa degli elementi.\n",
    "\n",
    "<font color=blue>Esempio:</font> Partendo dal dizionario ```D``` caricare il valore associato alla chiave ```Lazarus```:"
   ]
  },
  {
   "cell_type": "code",
   "execution_count": 98,
   "metadata": {},
   "outputs": [
    {
     "data": {
      "text/plain": [
       "2016"
      ]
     },
     "execution_count": 98,
     "metadata": {},
     "output_type": "execute_result"
    }
   ],
   "source": [
    "D = {'Low':1977, \n",
    "     'Diamond Dogs':1974, \n",
    "     'Lazarus':2016}\n",
    "D['Lazarus'] # mostra il valore di Lazarus"
   ]
  },
  {
   "cell_type": "markdown",
   "metadata": {},
   "source": [
    "Il modo più comune per costruire un dizionario è il seguente:"
   ]
  },
  {
   "cell_type": "code",
   "execution_count": 99,
   "metadata": {},
   "outputs": [
    {
     "name": "stdout",
     "output_type": "stream",
     "text": [
      "{'Istituto': 'INFN', 'Sezione': 'CNAF', 'Numero Dipendenti': 50}\n"
     ]
    }
   ],
   "source": [
    "D={} # Dizionario vuoto\n",
    "D['Istituto']='INFN' # Crea la chiave tramite assegnamento\n",
    "D['Sezione']='CNAF' # Ogni nuova chiave crea un nuovo elemento\n",
    "D['Numero Dipendenti']=50\n",
    "print(D)"
   ]
  },
  {
   "cell_type": "markdown",
   "metadata": {},
   "source": [
    "Per cancellare un elmento del dizionario è possibile usare la funzione ```del(D['Istituto'])```.\n",
    "\n",
    "Per verificare se un elemento è una chiave del dizionario si usa l'operatore  ```in ```, ad esempio ```'Istituto' in D```: se la chiave è nel dizionario viene restituito ```True```, altrimenti ```False```.\n",
    "\n",
    "Per conoscere tutte le chiavi che sono in un dizionario si usa il metodo  ```keys()``` che ritorna una lista contenente tutte le chiavi. L'ordine è casuale.\n",
    "\n",
    "Per conoscere tutti i valori che sono in un dizionario si usa il metodo ```values()``` che ritorna una lista contenente tutti i valori.\n",
    "\n",
    "[_Rispondere alle domande online._](https://docs.google.com/forms/d/1M6N85hdIs2Sos9tbkKdKxQN28sqJND7H9HJEbcCf-R4/prefill)"
   ]
  },
  {
   "cell_type": "markdown",
   "metadata": {},
   "source": [
    "<a id='section3'></a>\n",
    "## 3. Fondamenti di programmazione di Python\n",
    "\n",
    "Questa parte include le espressioni, le istruzioni ```if```, ```for```, ```while```, l'uso delle funzioni predefinite (come ```len()```) e la costruzione di nuove funzioni con la parola chiave ```def```.\n",
    "\n",
    "<a id='section3.1'></a>\n",
    "### A. Espressioni\n",
    "\n",
    "Le espressioni sono una combinazione di valori e operatori. Sono scritte utilizzando la normale notazione matematica.\n",
    "\n",
    "Operatore|Descrizione\n",
    "---|---\n",
    "```x<y```|ritorna True se x è minore di y\n",
    "```x>y```|ritorna True se x è maggiore di y\n",
    "```x<=y```|ritorna True se x è minore (o uguale a) di y\n",
    "```x>=y```|ritorna True se x è maggiore (o uguale a) di y\n",
    "```x!=y```|ritorna True se x è diverso da y\n",
    "```x==y```|ritorna True se x e y hanno lo stesso valore"
   ]
  },
  {
   "cell_type": "code",
   "execution_count": 100,
   "metadata": {},
   "outputs": [
    {
     "data": {
      "text/plain": [
       "False"
      ]
     },
     "execution_count": 100,
     "metadata": {},
     "output_type": "execute_result"
    }
   ],
   "source": [
    "'a' == 'b'"
   ]
  },
  {
   "cell_type": "code",
   "execution_count": 101,
   "metadata": {},
   "outputs": [
    {
     "data": {
      "text/plain": [
       "True"
      ]
     },
     "execution_count": 101,
     "metadata": {},
     "output_type": "execute_result"
    }
   ],
   "source": [
    "'a' != 'b'"
   ]
  },
  {
   "cell_type": "markdown",
   "metadata": {},
   "source": [
    "Le operazioni logiche avvengono tra espressioni e tra booleani.\n",
    "\n",
    "Operatore|Descrizione\n",
    "---|---\n",
    "```x or y```|```or``` logico, ```y``` viene valutato se ```x``` è falso\n",
    "```x and y```|```and``` logico, ```y``` viene valutato se ```x``` è vero\n",
    "```not x```|```not``` logico\n",
    "\n",
    "x|y|x or y\n",
    "---|---|---\n",
    "F|F|F\n",
    "F|T|T\n",
    "T|F|T\n",
    "T|T|T\n",
    "\n",
    "\n",
    "x|y|x and y\n",
    "---|---|---\n",
    "F|F|F\n",
    "F|T|F\n",
    "T|F|F\n",
    "T|T|T\n",
    "\n",
    "x|not y\n",
    "---|---\n",
    "F|T\n",
    "T|F"
   ]
  },
  {
   "cell_type": "code",
   "execution_count": 102,
   "metadata": {},
   "outputs": [
    {
     "name": "stdout",
     "output_type": "stream",
     "text": [
      "True\n",
      "True\n"
     ]
    }
   ],
   "source": [
    "CD_anno = 2018\n",
    "a = CD_anno < 2019\n",
    "print(a)\n",
    "b = a or (CD_anno > 2018)#1 espressione è vera, 2 espressione è falsa \n",
    "print(b)"
   ]
  },
  {
   "cell_type": "markdown",
   "metadata": {},
   "source": [
    "Le operazioni di appartenenza vengono fatte tra sequenze.\n",
    "\n",
    "Operatore|Descrizione\n",
    "---|---\n",
    "```x in y```|risultato true se x è nella sequenza y\n",
    "```x not in y```|risultato true se x non è nella sequenza y"
   ]
  },
  {
   "cell_type": "code",
   "execution_count": 103,
   "metadata": {},
   "outputs": [
    {
     "data": {
      "text/plain": [
       "True"
      ]
     },
     "execution_count": 103,
     "metadata": {},
     "output_type": "execute_result"
    }
   ],
   "source": [
    "'a' in 'ab'"
   ]
  },
  {
   "cell_type": "markdown",
   "metadata": {},
   "source": [
    "<a id='section3.2'></a>\n",
    "### B. If\n",
    "\n",
    "La istruzione ```if``` seleziona delle azioni da eseguire. Ha la seguente sintassi:\n",
    "```\n",
    "if espressione1:\n",
    "  blocco1\n",
    "elif espressione2:\n",
    "  blocco2\n",
    "else:\n",
    "  blocco3\n",
    "```\n",
    "Quando la istruzione ```if``` viene eseguita, Python esegue il ```blocco1``` se la ```espressione1``` risulta vera, o il ```blocco2``` se la ```espressione2``` risulta vera, o il ```blocco3``` se le precedenti espressioni sono risultate false. I ```:``` a termine di ogni espressione sono obbligatori."
   ]
  },
  {
   "cell_type": "code",
   "execution_count": 104,
   "metadata": {},
   "outputs": [
    {
     "name": "stdout",
     "output_type": "stream",
     "text": [
      "vero\n"
     ]
    }
   ],
   "source": [
    "if 1:\n",
    "    print('vero')"
   ]
  },
  {
   "cell_type": "code",
   "execution_count": 105,
   "metadata": {},
   "outputs": [
    {
     "name": "stdout",
     "output_type": "stream",
     "text": [
      "falso\n"
     ]
    }
   ],
   "source": [
    "if not 1:\n",
    "    print('vero')\n",
    "else:\n",
    "    print('falso')"
   ]
  },
  {
   "cell_type": "code",
   "execution_count": 106,
   "metadata": {},
   "outputs": [
    {
     "name": "stdout",
     "output_type": "stream",
     "text": [
      "Forse non ci conosciamo!\n"
     ]
    }
   ],
   "source": [
    "x = 'David'\n",
    "if (x == 'Roger'):\n",
    "    print('Come sta Telma?')\n",
    "elif (x == 'Pablo'):\n",
    "    print('Come sta Luis?')\n",
    "else:\n",
    "    print('Forse non ci conosciamo!')"
   ]
  },
  {
   "cell_type": "code",
   "execution_count": 107,
   "metadata": {},
   "outputs": [
    {
     "name": "stdout",
     "output_type": "stream",
     "text": [
      "Ma che stai dicendo!\n",
      "Sei sicuro?\n",
      "Certo!\n"
     ]
    }
   ],
   "source": [
    "x = 1\n",
    "if x == 1:\n",
    "    y = 2\n",
    "    if y:\n",
    "        print('Ma che stai dicendo!')\n",
    "    print('Sei sicuro?')\n",
    "print('Certo!')"
   ]
  },
  {
   "cell_type": "markdown",
   "metadata": {},
   "source": [
    "<font color=blue>Esempio:</font> Determinare il massimo tra due numeri."
   ]
  },
  {
   "cell_type": "code",
   "execution_count": 108,
   "metadata": {},
   "outputs": [
    {
     "name": "stdout",
     "output_type": "stream",
     "text": [
      "Il numero più grande è  5\n"
     ]
    }
   ],
   "source": [
    "a=2\n",
    "b=5\n",
    "if a==b:\n",
    "    print('I due numeri sono identici')\n",
    "elif a > b:\n",
    "    print('Il numero più grande è ', a)\n",
    "else:\n",
    "    print('Il numero più grande è ', b)"
   ]
  },
  {
   "cell_type": "markdown",
   "metadata": {},
   "source": [
    "<font color=blue>Esempio:</font> Determinare il massimo tra tre numeri."
   ]
  },
  {
   "cell_type": "code",
   "execution_count": 109,
   "metadata": {},
   "outputs": [
    {
     "name": "stdout",
     "output_type": "stream",
     "text": [
      "Il numero più grande è  7\n"
     ]
    }
   ],
   "source": [
    "a=2\n",
    "b=5\n",
    "c=7\n",
    "if a>=b and a>=c:\n",
    "    print('Il numero più grande è ', a)\n",
    "elif b>=a and b>=c:\n",
    "    print('Il numero più grande è ', b)\n",
    "elif c>=a and c>=b:\n",
    "    print('Il numero più grande è ', c)\n",
    "else:\n",
    "    print('Siamo messi bene!')"
   ]
  },
  {
   "cell_type": "markdown",
   "metadata": {},
   "source": [
    "<font color=blue>Esercizio:</font> Determinare se un carattere è una vocale."
   ]
  },
  {
   "cell_type": "code",
   "execution_count": 110,
   "metadata": {},
   "outputs": [
    {
     "name": "stdout",
     "output_type": "stream",
     "text": [
      "Il carattere d è una consonante\n"
     ]
    }
   ],
   "source": [
    "vocali = 'aeiou'\n",
    "c = 'd'\n",
    "if c in vocali:\n",
    "    print(f'Il carattere {c} è una vocale')\n",
    "else:\n",
    "    print(f'Il carattere {c} è una consonante')"
   ]
  },
  {
   "cell_type": "markdown",
   "metadata": {},
   "source": [
    "<a id='section3.3'></a>\n",
    "### C. Ciclo for\n",
    "Il ciclo ```for``` è un iteratore di sequenze: può essere usato sugli elementi di qualsiasi oggetto di tipo sequenza. Ha la seguente sintassi:\n",
    "```\n",
    "for destinazione in sequenza:\n",
    "  blocco1\n",
    "```\n",
    "Quando la istruzione ```for``` viene eseguita, Python assegna gli elementi dell'oggetto ```sequenza``` alla ```destinazione```, uno dopo l'altro, ed esegue per ciascuno le istruzioni nel ```blocco1``` che possono usare la ```destinazione``` per riferirsi all'elemento corrente della ```sequenza```. \n",
    "\n",
    "All'interno del ```blocco1``` è possibile avere le seguenti istruzioni:\n",
    "```\n",
    "if espressione1: break #Si esce immediatamente dal ciclo\n",
    "if espressione2: continue #Va immediatamente all'inizio del ciclo \n",
    "```\n",
    "\n",
    "<font color=blue>Esempio:</font> Iterare su tutti i caratteri di una stringa, visualizzando la versione trasformata in maiuscola."
   ]
  },
  {
   "cell_type": "code",
   "execution_count": 111,
   "metadata": {},
   "outputs": [
    {
     "name": "stdout",
     "output_type": "stream",
     "text": [
      "S\n",
      "P\n",
      "A\n",
      "M\n"
     ]
    }
   ],
   "source": [
    "for c in 'spam':\n",
    "    print(c.upper())"
   ]
  },
  {
   "cell_type": "markdown",
   "metadata": {},
   "source": [
    "Il ciclo ```for``` può essere impiegato nella espressione di mappatura di una lista. Permette di costruire una nuova lista eseguendo una espressione su ciascun elemento di un'altra. \n",
    "\n",
    "<font color=blue>Esempio:</font> Calcolare l'elevamento a potenza degli elementi di una lista."
   ]
  },
  {
   "cell_type": "code",
   "execution_count": 112,
   "metadata": {},
   "outputs": [
    {
     "data": {
      "text/plain": [
       "[1, 4, 9, 16]"
      ]
     },
     "execution_count": 112,
     "metadata": {},
     "output_type": "execute_result"
    }
   ],
   "source": [
    "quadrati = [x**2 for x in [1, 2, 3, 4]] # ** elevamento a potenza\n",
    "quadrati"
   ]
  },
  {
   "cell_type": "markdown",
   "metadata": {},
   "source": [
    "Le espressioni di mappatura sono scritte tra parentesi quadre, per ricordare che si crea una nuova lista, e sono composte da un'espressione ```x**2``` e da un ciclo che condividono la stessa variabile ```x```.\n",
    "\n",
    "Quanto scritto sopra è equivalente all'uso del ciclo ```for``` in cui viene chiamato il metodo ```append()```."
   ]
  },
  {
   "cell_type": "code",
   "execution_count": 113,
   "metadata": {},
   "outputs": [
    {
     "data": {
      "text/plain": [
       "[1, 4, 9, 16]"
      ]
     },
     "execution_count": 113,
     "metadata": {},
     "output_type": "execute_result"
    }
   ],
   "source": [
    "quadrati = []\n",
    "for x in [1, 2, 3, 4]:\n",
    "    quadrati.append(x**2)\n",
    "quadrati"
   ]
  },
  {
   "cell_type": "markdown",
   "metadata": {},
   "source": [
    "La funzione ```range()``` genera una sequenza di interi successivi:\n",
    "- se ha in ingresso un intero positivo N, la funzione genera una sequenza di interi che parte da 0 e arriva ad N-1."
   ]
  },
  {
   "cell_type": "code",
   "execution_count": 114,
   "metadata": {},
   "outputs": [
    {
     "name": "stdout",
     "output_type": "stream",
     "text": [
      "[0, 1, 2]\n"
     ]
    }
   ],
   "source": [
    "L = list(range(3))\n",
    "print(L)"
   ]
  },
  {
   "cell_type": "code",
   "execution_count": 115,
   "metadata": {},
   "outputs": [
    {
     "name": "stdout",
     "output_type": "stream",
     "text": [
      "0\n",
      "1\n",
      "2\n"
     ]
    }
   ],
   "source": [
    "for i in range(3):\n",
    "    print(i)"
   ]
  },
  {
   "cell_type": "markdown",
   "metadata": {},
   "source": [
    "- se ha in ingresso due interi positivi M e N con M<N, la funzione genera una sequenza che parte da M e arriva a N-1"
   ]
  },
  {
   "cell_type": "code",
   "execution_count": 116,
   "metadata": {},
   "outputs": [
    {
     "name": "stdout",
     "output_type": "stream",
     "text": [
      "[10, 11]\n"
     ]
    }
   ],
   "source": [
    "L = list(range(10,12))\n",
    "print(L)"
   ]
  },
  {
   "cell_type": "code",
   "execution_count": 117,
   "metadata": {},
   "outputs": [
    {
     "name": "stdout",
     "output_type": "stream",
     "text": [
      "10\n",
      "11\n"
     ]
    }
   ],
   "source": [
    "for i in range(10,12):\n",
    "    print(i)"
   ]
  },
  {
   "cell_type": "markdown",
   "metadata": {},
   "source": [
    "- se ha in ingresso tre interi positivi M, N e K con M<N, la funzione genera una sequenza che parte da M e arriva a N-1 a passi di K"
   ]
  },
  {
   "cell_type": "code",
   "execution_count": 118,
   "metadata": {},
   "outputs": [
    {
     "name": "stdout",
     "output_type": "stream",
     "text": [
      "[10, 12, 14]\n"
     ]
    }
   ],
   "source": [
    "L = list(range(10,15,2))\n",
    "print(L)"
   ]
  },
  {
   "cell_type": "markdown",
   "metadata": {},
   "source": [
    "La funzione ```enumerate()``` restituisce per ogni elemento di una lista una tupla (indice, valore). "
   ]
  },
  {
   "cell_type": "code",
   "execution_count": 119,
   "metadata": {},
   "outputs": [
    {
     "name": "stdout",
     "output_type": "stream",
     "text": [
      "rosso rosso\n",
      "blu blu\n",
      "giallo giallo\n"
     ]
    }
   ],
   "source": [
    "colori = ['rosso', 'blu', 'giallo'] \n",
    "for i,colore in enumerate(colori):\n",
    "    print(colori[i], colore)"
   ]
  },
  {
   "cell_type": "markdown",
   "metadata": {},
   "source": [
    "La funzione ```zip()``` permette di combinare insieme gli elementi di più sequenze restituendo una lista di tuple contenenti gli elementi delle liste di ingresso che hanno gli stessi indici."
   ]
  },
  {
   "cell_type": "code",
   "execution_count": 120,
   "metadata": {},
   "outputs": [
    {
     "name": "stdout",
     "output_type": "stream",
     "text": [
      "La mela è di colore rosso\n",
      "La mela è di colore verde\n",
      "La banana è di colore giallo\n"
     ]
    }
   ],
   "source": [
    "colori = ['rosso', 'verde', 'giallo']\n",
    "frutta = ['mela', 'mela', 'banana']\n",
    "for f,c in zip(frutta, colori):\n",
    "    print(f'La {f} è di colore {c}')"
   ]
  },
  {
   "cell_type": "markdown",
   "metadata": {},
   "source": [
    "<font color=blue>Esercizio:</font> Sommare tutti gli elementi di una lista."
   ]
  },
  {
   "cell_type": "code",
   "execution_count": 121,
   "metadata": {},
   "outputs": [
    {
     "name": "stdout",
     "output_type": "stream",
     "text": [
      "23\n"
     ]
    }
   ],
   "source": [
    "L = [1, 5, 7, 10]\n",
    "somma = 0\n",
    "for x in L:\n",
    "    somma += x\n",
    "print(somma)"
   ]
  },
  {
   "cell_type": "markdown",
   "metadata": {},
   "source": [
    "<font color=blue>Esercizio:</font> Moltiplicare tutti gli elementi di una lista."
   ]
  },
  {
   "cell_type": "code",
   "execution_count": 122,
   "metadata": {},
   "outputs": [
    {
     "name": "stdout",
     "output_type": "stream",
     "text": [
      "350\n"
     ]
    }
   ],
   "source": [
    "L = [1, 5, 7, 10]\n",
    "molt = 1\n",
    "for x in L:\n",
    "    if x != 0:\n",
    "        molt *= x\n",
    "print(molt)"
   ]
  },
  {
   "cell_type": "markdown",
   "metadata": {},
   "source": [
    "<a id='section3.4'></a>\n",
    "### D. Ciclo while\n",
    "Il ciclo ```while``` è un costrutto iterativo. Esegue ripetutamente un blocco di istruzioni fintanto che una espressione specificata all'inizio restituisce un risultato vero. Quando l'espressione diventa falsa, si passa alla istruzione successiva al ```while```. Ha la seguente sintassi:\n",
    "```\n",
    "while espressione:\n",
    "  blocco1\n",
    "```\n",
    "\n",
    "All'interno del ```blocco1``` è possibile avere le seguenti istruzioni:\n",
    "```\n",
    "if espressione1: break #Si esce immediatamente dal ciclo\n",
    "if espressione2: continue #Va immediatamente all'inizio del ciclo \n",
    "```"
   ]
  },
  {
   "cell_type": "markdown",
   "metadata": {},
   "source": [
    "<font color=blue>Esercizio:</font> Data una stringa di n caratteri, formare una nuova stringa con i caratteri della precedente in ordine inverso. "
   ]
  },
  {
   "cell_type": "code",
   "execution_count": 123,
   "metadata": {},
   "outputs": [
    {
     "name": "stdout",
     "output_type": "stream",
     "text": [
      "ereggere\n"
     ]
    }
   ],
   "source": [
    "stringa='ereggere' #I caratteri formano un palindromo\n",
    "indice=len(stringa)-1\n",
    "nuova_stringa=''\n",
    "while indice>=0:\n",
    "    nuova_stringa += stringa[indice]\n",
    "    indice-= 1\n",
    "print(nuova_stringa) "
   ]
  },
  {
   "cell_type": "markdown",
   "metadata": {},
   "source": [
    "<a id='section3.5'></a>\n",
    "### E. Funzioni\n",
    "\n",
    "Le funzioni raggruppano una serie di istruzioni che possono essere eseguite anche più di una volta all'interno di un programma. \n",
    "\n",
    "La parola chiave ```def``` crea una funzione e l'assegna ad un ```nome``` con zero o più argomenti racchiusi tra parentesi e separati da virgola: \n",
    "```\n",
    "def nome(argomento1, ..., argomentoN): \n",
    "  blocco\n",
    "```\n",
    "All'interno del ```blocco``` è in genere presente l'istruzione ```return```, la quale termina l'esecuzione della funzione e restituisce un risultato al chiamante. Nel caso non sia presente la funzione restituisce ```None```.\n",
    "\n",
    "La parola chiave ```def``` può comparire ovunque all'interno del codice.\n",
    "\n",
    "<font color=blue>Esempio:</font> Definire e chiamare una funzione che somma 1 all'argomento passato. "
   ]
  },
  {
   "cell_type": "code",
   "execution_count": 124,
   "metadata": {},
   "outputs": [
    {
     "data": {
      "text/plain": [
       "11"
      ]
     },
     "execution_count": 124,
     "metadata": {},
     "output_type": "execute_result"
    }
   ],
   "source": [
    "def sommauno(a): # creazione della funzione\n",
    "    b = a + 1\n",
    "    return b \n",
    "\n",
    "a = 10\n",
    "sommauno(a) # chiamata della funzione"
   ]
  },
  {
   "cell_type": "code",
   "execution_count": 125,
   "metadata": {},
   "outputs": [
    {
     "data": {
      "text/plain": [
       "11"
      ]
     },
     "execution_count": 125,
     "metadata": {},
     "output_type": "execute_result"
    }
   ],
   "source": [
    "def sommauno(a):\n",
    "    b = a + 1\n",
    "    return b \n",
    "\n",
    "b = sommauno(10)\n",
    "b"
   ]
  },
  {
   "cell_type": "code",
   "execution_count": 126,
   "metadata": {},
   "outputs": [
    {
     "data": {
      "text/plain": [
       "11"
      ]
     },
     "execution_count": 126,
     "metadata": {},
     "output_type": "execute_result"
    }
   ],
   "source": [
    "def sommauno(a):\n",
    "    return a + 1\n",
    "\n",
    "b = sommauno(10)\n",
    "b"
   ]
  },
  {
   "cell_type": "code",
   "execution_count": 127,
   "metadata": {},
   "outputs": [
    {
     "name": "stdout",
     "output_type": "stream",
     "text": [
      "11\n",
      "Help on function sommauno in module __main__:\n",
      "\n",
      "sommauno(a)\n",
      "    somma 1 ad a\n",
      "\n"
     ]
    }
   ],
   "source": [
    "def sommauno(a):\n",
    "    \"\"\"\n",
    "    somma 1 ad a\n",
    "    \"\"\"\n",
    "    return a + 1 \n",
    "\n",
    "print(sommauno(10))\n",
    "help(sommauno)"
   ]
  },
  {
   "cell_type": "markdown",
   "metadata": {},
   "source": [
    "Alcune funzioni base di Python:\n",
    "\n",
    "Funzione|Descrizione\n",
    "---|---\n",
    "```len()```|ritorna la lunghezza degli elementi della lista\n",
    "```sum()```|ritorna la somma degli elementi della lista\n",
    "```sorted()```|ritorna una nuova lista o tupla ordinata\n",
    "```help()```|ritorna la documentazione sulla funzione\n",
    "\n",
    "Python crea, modifica e risolve un nome considerando lo _spazio dei nomi_. Quando si ricerca il valore di un nome si usa il termine _contesto_ in riferimento allo spazio dei nomi. Il _contesto_ è legato al punto del codice in cui il nome viene creato. Di default tutti i nomi assegnati all'interno di una funzione sono associati allo spazio dei nomi della funzione:\n",
    "- i nomi definiti all'interno di una ```def``` sono visibili solo dal codice all'interno di quella ```def```\n",
    "- i nomi definiti all'interno di una ```def``` non sono in conflitto con altri nomi definiti all'esterno della ```def```.\n",
    "\n",
    "Se una variabile è assegnata all'interno di una funzione, la variabile si dice _locale_ a quella funzione; se è stata assegnata all'esterno di una funzione, la variabile si dice _globale_ all'interno del modulo (il file di codice che la contiene).\n",
    "\n",
    "Quando chiamiamo una funzione, il programma entra in un nuovo contesto che viene cancellato quando il programma esce dalla funzione. Le variabili nel contesto globale possono avere lo stesso nome del contesto locale senza conflitto."
   ]
  },
  {
   "cell_type": "code",
   "execution_count": 128,
   "metadata": {},
   "outputs": [
    {
     "data": {
      "text/plain": [
       "3"
      ]
     },
     "execution_count": 128,
     "metadata": {},
     "output_type": "execute_result"
    }
   ],
   "source": [
    "x = 1 # x è un nome globale\n",
    " \n",
    "def calcola(y): # calcola è un nome glonale\n",
    "    # y e z sono nomi locali alla funzione; \n",
    "    # x è un nome globale\n",
    "    z = x + y \n",
    "    return z\n",
    "\n",
    "calcola(2)"
   ]
  },
  {
   "cell_type": "markdown",
   "metadata": {},
   "source": [
    "La variabile ```x``` è globale e può essere referenziata all'interno della funzione senza bisogno che sia dichiarata globale. Le variabili ```y``` e ```z``` sono locali alla funzione. \n",
    "\n",
    "Per modificare il valore della variabile ```x``` all'interno della funzione si può usare la istruzione ```global```."
   ]
  },
  {
   "cell_type": "code",
   "execution_count": 129,
   "metadata": {},
   "outputs": [
    {
     "name": "stdout",
     "output_type": "stream",
     "text": [
      "1\n",
      "4\n",
      "2\n"
     ]
    }
   ],
   "source": [
    "x = 1 # x è un nome globale\n",
    " \n",
    "def calcola(y): # calcola è un nome glonale\n",
    "    # y e z sono nomi locali alla funzione; \n",
    "    # x è un nome globale\n",
    "    global x # dichiarazione globale di x\n",
    "    x = 2\n",
    "    z = x + y \n",
    "    return z\n",
    "\n",
    "print(x) # valore di x prima della chiamata della funzione\n",
    "print(calcola(2)) \n",
    "print(x) # valore di x dopo la chiamata della funzione"
   ]
  },
  {
   "cell_type": "markdown",
   "metadata": {},
   "source": [
    "<a id='section3.6'></a>\n",
    "### F. Moduli\n",
    "\n",
    "Un modulo è un file, di estensione ```.py```, contenente delle istruzioni Python. Altri file possono accedere agli elementi definiti in un modulo importandolo: l'operazione di ```import``` permette di caricare un altro file e di accedere al suo contenuto. I contenuti del modulo sono accedibili negli altri file tramite l'uso degli attributi.\n",
    "\n",
    "La istruzione ```import``` permette di eseguire un modulo all'interno di una sessione.\n",
    "\n",
    "I moduli costituiscono il modo per raccogliere il codice in librerie e contengono un insieme di nomi chiamati attributi che vengono assegnati ad oggetti specifici, quali funzioni e variabili.\n",
    "\n",
    "Si può accedere ai nomi definiti in un modulo tramite le istruzioni ```import``` e ```from```.\n",
    "\n",
    "Supponiamo di avere localmente il modulo ```corso.py``` contenente la istruzione ```materia = 'Informatica'```. Quando il modulo viene importato, il codice al suo interno viene eseguito: l'istruzione di assegnamento crea il nome ```materia```. Si può accedere all'attributo ```materia``` in diversi modi:\n",
    "- usando la sintassi oggetto.attributo"
   ]
  },
  {
   "cell_type": "code",
   "execution_count": 130,
   "metadata": {},
   "outputs": [
    {
     "name": "stdout",
     "output_type": "stream",
     "text": [
      "Informatica\n"
     ]
    }
   ],
   "source": [
    "import corso\n",
    "print(corso.materia)"
   ]
  },
  {
   "cell_type": "markdown",
   "metadata": {},
   "source": [
    "- copiando i nomi da un modulo tramite la istruzione ```from```"
   ]
  },
  {
   "cell_type": "code",
   "execution_count": 131,
   "metadata": {},
   "outputs": [
    {
     "name": "stdout",
     "output_type": "stream",
     "text": [
      "Informatica\n"
     ]
    }
   ],
   "source": [
    "from corso import materia\n",
    "print(materia)"
   ]
  },
  {
   "cell_type": "code",
   "execution_count": 132,
   "metadata": {},
   "outputs": [
    {
     "name": "stdout",
     "output_type": "stream",
     "text": [
      "Informatica\n"
     ]
    }
   ],
   "source": [
    "from corso import materia as mt # per rinominare il nome\n",
    "print(mt)"
   ]
  },
  {
   "cell_type": "markdown",
   "metadata": {},
   "source": [
    "[_Rispondere alle domande online._](https://docs.google.com/forms/d/1OSHSL0BnItJLHUcsrA6GvlAWZ9bSL_TZfJdHWe1cEzE/prefill)"
   ]
  }
 ],
 "metadata": {
  "kernelspec": {
   "display_name": "Python 3",
   "language": "python",
   "name": "python3"
  },
  "language_info": {
   "codemirror_mode": {
    "name": "ipython",
    "version": 3
   },
   "file_extension": ".py",
   "mimetype": "text/x-python",
   "name": "python",
   "nbconvert_exporter": "python",
   "pygments_lexer": "ipython3",
   "version": "3.7.1"
  }
 },
 "nbformat": 4,
 "nbformat_minor": 2
}
